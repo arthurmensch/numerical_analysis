{
 "cells": [
  {
   "cell_type": "markdown",
   "metadata": {},
   "source": [
    "## Root finding\n",
    "\n",
    "The following dichotomy function performs both the **dichotomy** (`split='even'`) and\n",
    "**Lagrange** `(split='lagrange'`) method. We also define the **Newton** method.\n",
    "\n",
    "Note that we use the same stopping criterion for all, i.e. $f(m) < \\epsilon$, where $m$ is the current iterate"
   ]
  },
  {
   "cell_type": "code",
   "execution_count": 10,
   "metadata": {
    "collapsed": true
   },
   "outputs": [],
   "source": [
    "from math import fabs\n",
    "\n",
    "def dichotomy(f, a, b, epsilon=1e-4, split='even', max_iter=100):\n",
    "    assert(a < b)\n",
    "    assert(f(a) * f(b) < 0)\n",
    "    assert(split in ['even', 'lagrange'])\n",
    "    m = 1\n",
    "    n_iter = 0\n",
    "    while(fabs(f(m)) > epsilon and n_iter < max_iter):\n",
    "        if split == 'even':\n",
    "            m = (a + b) / 2\n",
    "        else: # split == 'lagrange'\n",
    "            m = a + (a - b) * f(a) / (f(b) - f(a))\n",
    "        if f(m) * f(a) < 0:\n",
    "            b = m\n",
    "        else:\n",
    "            a = m\n",
    "        n_iter += 1\n",
    "    return m, n_iter\n",
    "\n",
    "def newton(f, fprime, a, b, epsilon=1e-4, max_iter=100):\n",
    "    assert(a < b)\n",
    "    assert(f(a) * f(b) < 0)\n",
    "    x = (a + b) / 2\n",
    "    n_iter = 0\n",
    "    while(fabs(f(x)) > epsilon and n_iter < max_iter):\n",
    "        assert(fprime(x) != 0)\n",
    "        x -= f(x) / fprime(x)\n",
    "        n_iter += 1\n",
    "    return x, n_iter"
   ]
  },
  {
   "cell_type": "markdown",
   "metadata": {},
   "source": [
    "Let's define functions to test our methods"
   ]
  },
  {
   "cell_type": "code",
   "execution_count": 11,
   "metadata": {},
   "outputs": [],
   "source": [
    "from math import cos, sin, cosh, sinh\n",
    "\n",
    "def f(x):\n",
    "    return cos(x) - x\n",
    "\n",
    "def fprime(x):\n",
    "    return - sin(x) - 1\n",
    "\n",
    "def g(x, gamma):\n",
    "    return cosh(x) + cos(x) - gamma\n",
    "\n",
    "def gprime(x, gamma):\n",
    "    return sinh(x) - sin(x)"
   ]
  },
  {
   "cell_type": "markdown",
   "metadata": {},
   "source": [
    "We first plot these functions"
   ]
  },
  {
   "cell_type": "code",
   "execution_count": 26,
   "metadata": {},
   "outputs": [
    {
     "data": {
      "text/plain": [
       "<matplotlib.legend.Legend at 0x7f5dd97c1b38>"
      ]
     },
     "execution_count": 26,
     "metadata": {},
     "output_type": "execute_result"
    },
    {
     "data": {
      "image/png": "[encoded data removed]",
      "text/plain": [
       "<matplotlib.figure.Figure at 0x7f5dd978d0b8>"
      ]
     },
     "metadata": {},
     "output_type": "display_data"
    }
   ],
   "source": [
    "from functools import partial  # A handy shortcut\n",
    "import matplotlib.pyplot as plt\n",
    "import numpy as np\n",
    "%matplotlib inline\n",
    "\n",
    "a = - 1\n",
    "b = 3\n",
    "for gamma in [2.1, 2.5, 3]:\n",
    "    h = partial(g, gamma=gamma)\n",
    "    hprime = partial(gprime, gamma=gamma)\n",
    "    xs = np.linspace(a, b, 100)\n",
    "    ys = list(map(h, xs))\n",
    "    plt.plot(xs, ys, label='gamma = %.2f' % gamma)\n",
    "plt.hlines(0, a, b)\n",
    "plt.legend()\n"
   ]
  },
  {
   "cell_type": "markdown",
   "metadata": {},
   "source": [
    "Let us now try the three root finding algorithms on these functions"
   ]
  },
  {
   "cell_type": "code",
   "execution_count": 29,
   "metadata": {},
   "outputs": [
    {
     "name": "stdout",
     "output_type": "stream",
     "text": [
      "Using g function with gamma = 2.010000\n",
      "Dichotomy, split even: m = 0.588556, f(m) = 0.000000, n_iter =  20\n",
      "Dichotomy, split lagrange: m = 0.447244, f(m) = -0.006666, n_iter =  100\n",
      "Newton: m = 0.588556, f(m) = 0.000000, n_iter =  7\n",
      "Using g function with gamma = 2.100000\n",
      "Dichotomy, split even: m = 1.046448, f(m) = 0.000000, n_iter =  23\n",
      "Dichotomy, split lagrange: m = 1.046404, f(m) = -0.000017, n_iter =  100\n",
      "Newton: m = 1.046448, f(m) = 0.000000, n_iter =  5\n",
      "Using g function with gamma = 2.500000\n",
      "Dichotomy, split even: m = 1.563695, f(m) = 0.000000, n_iter =  26\n",
      "Dichotomy, split lagrange: m = 1.563695, f(m) = -0.000000, n_iter =  62\n",
      "Newton: m = 1.563695, f(m) = 0.000000, n_iter =  3\n",
      "Using g function with gamma = 3.000000\n",
      "Dichotomy, split even: m = 1.857921, f(m) = -0.000000, n_iter =  23\n",
      "Dichotomy, split lagrange: m = 1.857921, f(m) = -0.000000, n_iter =  40\n",
      "Newton: m = 1.857921, f(m) = 0.000000, n_iter =  4\n"
     ]
    }
   ],
   "source": [
    "a, b = 0.1, 3\n",
    "for gamma in [2.01, 2.1, 2.5, 3]:\n",
    "    print('Using g function with gamma = %f' % gamma)\n",
    "    h = partial(g, gamma=gamma)\n",
    "    hprime = partial(gprime, gamma=gamma)\n",
    "    for split in ['even', 'lagrange']:\n",
    "        m, n_iter = dichotomy(h, a, b, epsilon=1e-8, split=split)\n",
    "        print('Dichotomy, split %s: m = %f, f(m) = %f, n_iter = % i' % (split, m, h(m), n_iter))\n",
    "    m, n_iter = newton(h, hprime, a, b, epsilon=1e-8)\n",
    "    print('Newton: m = %f, f(m) = %f, n_iter = % i' % (m, h(m), n_iter))"
   ]
  },
  {
   "cell_type": "markdown",
   "metadata": {
    "collapsed": true
   },
   "source": [
    "We observe that with `gamma` close to `2`, the `lagrange` method does not work very well !"
   ]
  },
  {
   "cell_type": "code",
   "execution_count": 147,
   "metadata": {
    "collapsed": true
   },
   "outputs": [],
   "source": []
  },
  {
   "cell_type": "code",
   "execution_count": null,
   "metadata": {
    "collapsed": true
   },
   "outputs": [],
   "source": []
  }
 ],
 "metadata": {
  "kernelspec": {
   "display_name": "Python 3",
   "language": "python",
   "name": "python3"
  },
  "language_info": {
   "codemirror_mode": {
    "name": "ipython",
    "version": 3
   },
   "file_extension": ".py",
   "mimetype": "text/x-python",
   "name": "python",
   "nbconvert_exporter": "python",
   "pygments_lexer": "ipython3",
   "version": "3.6.3"
  }
 },
 "nbformat": 4,
 "nbformat_minor": 2
}
